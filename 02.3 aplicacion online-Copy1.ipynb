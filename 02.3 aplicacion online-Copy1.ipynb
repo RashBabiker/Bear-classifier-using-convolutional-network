{
 "cells": [
  {
   "cell_type": "markdown",
   "metadata": {},
   "source": [
    "# Clasificador de número por Rashid Babiker\n",
    "\n",
    "Palabrería que ya veré si pongo, pero vamos, metes un numero escrito a mano (letra negra en fondo blanco, si no no funciona bien) y te dice que numero es:"
   ]
  },
  {
   "cell_type": "code",
   "execution_count": 1,
   "metadata": {},
   "outputs": [],
   "source": [
    "from fastai.vision.all import *\n",
    "from fastai.vision.widgets import *\n",
    "import PIL # para invertir el color de las imagenes\n",
    "\n",
    "learn_numbers = load_learner('numeros augmented.pkl')"
   ]
  },
  {
   "cell_type": "code",
   "execution_count": 6,
   "metadata": {},
   "outputs": [],
   "source": [
    "# Esto ya lo tenía, ahora voy a preparar la pagina web, primero voy a hacer la función:\n",
    "\n",
    "def clasificar(change): # el argumento es necesario pero no sé por qué\n",
    "    img = PILImage.create(btn_upload.data[-1])\n",
    "    im_tensor = tensor(PIL.ImageOps.invert(img)) \n",
    "    out_pl.clear_output()\n",
    "    with out_pl: display(img)\n",
    "    pred,pred_idx,probs = learn_numbers.predict(im_tensor)\n",
    "    lbl_pred.value = f'Prediction: {pred}; Probability: {probs[pred_idx]:.04f}'"
   ]
  },
  {
   "cell_type": "code",
   "execution_count": 12,
   "metadata": {},
   "outputs": [],
   "source": [
    "btn_upload = widgets.FileUpload(description='Número') # boton para subir la imagen\n",
    "\n",
    "\n",
    "# etiqueta vacía con el resultado, lo rellenamos con la funcion clasificar.\n",
    "lbl_pred = widgets.Label()\n",
    "\n",
    "btn_upload.observe(clasificar, names = ['data'])\n",
    "\n",
    "# ponemos como primer output la imagen subida previamente\n",
    "out_pl = widgets.Output() \n",
    "\n",
    "# A continuación combinamos estos elementos:"
   ]
  },
  {
   "cell_type": "code",
   "execution_count": 13,
   "metadata": {},
   "outputs": [
    {
     "data": {
      "application/vnd.jupyter.widget-view+json": {
       "model_id": "4c1cbe686edb49c8bc29d3e28ed7d926",
       "version_major": 2,
       "version_minor": 0
      },
      "text/plain": [
       "VBox(children=(Label(value='Introduzca una imagen de un número'), FileUpload(value={}, description='Número'), …"
      ]
     },
     "metadata": {},
     "output_type": "display_data"
    },
    {
     "data": {
      "text/html": [],
      "text/plain": [
       "<IPython.core.display.HTML object>"
      ]
     },
     "metadata": {},
     "output_type": "display_data"
    },
    {
     "data": {
      "text/html": [],
      "text/plain": [
       "<IPython.core.display.HTML object>"
      ]
     },
     "metadata": {},
     "output_type": "display_data"
    }
   ],
   "source": [
    "VBox([widgets.Label('Introduzca una imagen de un número'), \n",
    "      btn_upload,\n",
    "      out_pl, \n",
    "      lbl_pred])"
   ]
  },
  {
   "cell_type": "code",
   "execution_count": null,
   "metadata": {},
   "outputs": [],
   "source": []
  }
 ],
 "metadata": {
  "kernelspec": {
   "display_name": "Python 3",
   "language": "python",
   "name": "python3"
  },
  "language_info": {
   "codemirror_mode": {
    "name": "ipython",
    "version": 3
   },
   "file_extension": ".py",
   "mimetype": "text/x-python",
   "name": "python",
   "nbconvert_exporter": "python",
   "pygments_lexer": "ipython3",
   "version": "3.8.6"
  }
 },
 "nbformat": 4,
 "nbformat_minor": 4
}
