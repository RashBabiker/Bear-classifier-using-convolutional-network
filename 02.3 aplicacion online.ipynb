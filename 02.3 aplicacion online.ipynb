{
 "cells": [
  {
   "cell_type": "code",
   "execution_count": 1,
   "metadata": {},
   "outputs": [],
   "source": [
    "from fastai.vision.all import *\n",
    "from fastai.vision.widgets import *\n",
    "import PIL # para invertir el color de las imagenes\n",
    "\n",
    "learn_numbers = load_learner('numeros augmented.pkl')"
   ]
  },
  {
   "cell_type": "code",
   "execution_count": 2,
   "metadata": {},
   "outputs": [],
   "source": [
    "path = Path(\"imagenes ejercicio 2\")\n",
    "numeros = [PILImage.create(o) for o in path.ls(file_exts = \".JPG\")]"
   ]
  },
  {
   "cell_type": "code",
   "execution_count": 3,
   "metadata": {},
   "outputs": [
    {
     "data": {
      "text/html": [],
      "text/plain": [
       "<IPython.core.display.HTML object>"
      ]
     },
     "metadata": {},
     "output_type": "display_data"
    },
    {
     "name": "stdout",
     "output_type": "stream",
     "text": [
      "Predicción: 1 \n",
      "probabilidades de cada clase:\n",
      " TensorImage([2.8370e-02, 9.1231e-01, 4.5527e-03, 1.7094e-02, 1.0792e-03, 1.9765e-02,\n",
      "        4.4909e-03, 5.8004e-04, 1.0008e-02, 1.7513e-03])\n"
     ]
    }
   ],
   "source": [
    "im = tensor(PIL.ImageOps.invert(numeros[0])) \n",
    "pred = learn_numbers.predict(im)\n",
    "print(\"Predicción:\", pred[0],\n",
    "    \"\\nprobabilidades de cada clase:\\n\", pred[2])"
   ]
  },
  {
   "cell_type": "code",
   "execution_count": 11,
   "metadata": {},
   "outputs": [],
   "source": [
    "# Esto ya lo tenía, ahora voy a preparar la pagina web, primero voy a hacer la función:\n",
    "\n",
    "def clasificar(change):\n",
    "    img = PILImage.create(btn_upload.data[-1])\n",
    "    im_tensor = tensor(PIL.ImageOps.invert(img)) \n",
    "    out_pl.clear_output()\n",
    "    with out_pl: display(img)\n",
    "    pred,pred_idx,probs = learn_numbers.predict(im_tensor)\n",
    "    lbl_pred.value = f'Prediction: {pred}; Probability: {probs[pred_idx]:.04f}'"
   ]
  },
  {
   "cell_type": "code",
   "execution_count": 12,
   "metadata": {},
   "outputs": [],
   "source": [
    "btn_upload = widgets.FileUpload() # boton para subir la imagen\n",
    "\n",
    "# etiqueta vacía con el resultado, lo rellenamos con la funcion clasificar.\n",
    "lbl_pred = widgets.Label()\n",
    "\n",
    "# El boton que al pulsarlo, clasifica la imagen:\n",
    "btn_run = widgets.Button(description='Clasificar')\n",
    "btn_run.on_click(clasificar)\n",
    "\n",
    "# ponemos como primer output la imagen subida previamente\n",
    "out_pl = widgets.Output() \n",
    "out_pl.clear_output()\n",
    "\n",
    "# A continuación combinamos estos elementos:"
   ]
  },
  {
   "cell_type": "code",
   "execution_count": 13,
   "metadata": {},
   "outputs": [
    {
     "data": {
      "application/vnd.jupyter.widget-view+json": {
       "model_id": "3b8a0ddad0d949cb9539dbba43eaf81e",
       "version_major": 2,
       "version_minor": 0
      },
      "text/plain": [
       "VBox(children=(Label(value='Introduzca una imagen de un número'), FileUpload(value={}, description='Upload'), …"
      ]
     },
     "metadata": {},
     "output_type": "display_data"
    },
    {
     "data": {
      "text/html": [],
      "text/plain": [
       "<IPython.core.display.HTML object>"
      ]
     },
     "metadata": {},
     "output_type": "display_data"
    },
    {
     "data": {
      "text/html": [],
      "text/plain": [
       "<IPython.core.display.HTML object>"
      ]
     },
     "metadata": {},
     "output_type": "display_data"
    },
    {
     "data": {
      "text/html": [],
      "text/plain": [
       "<IPython.core.display.HTML object>"
      ]
     },
     "metadata": {},
     "output_type": "display_data"
    },
    {
     "data": {
      "text/html": [],
      "text/plain": [
       "<IPython.core.display.HTML object>"
      ]
     },
     "metadata": {},
     "output_type": "display_data"
    },
    {
     "data": {
      "text/html": [],
      "text/plain": [
       "<IPython.core.display.HTML object>"
      ]
     },
     "metadata": {},
     "output_type": "display_data"
    },
    {
     "data": {
      "text/html": [],
      "text/plain": [
       "<IPython.core.display.HTML object>"
      ]
     },
     "metadata": {},
     "output_type": "display_data"
    }
   ],
   "source": [
    "VBox([widgets.Label('Introduzca una imagen de un número'), \n",
    "      btn_upload, \n",
    "      btn_run, \n",
    "      out_pl, \n",
    "      lbl_pred])"
   ]
  },
  {
   "cell_type": "code",
   "execution_count": null,
   "metadata": {},
   "outputs": [],
   "source": []
  }
 ],
 "metadata": {
  "kernelspec": {
   "display_name": "Python 3",
   "language": "python",
   "name": "python3"
  },
  "language_info": {
   "codemirror_mode": {
    "name": "ipython",
    "version": 3
   },
   "file_extension": ".py",
   "mimetype": "text/x-python",
   "name": "python",
   "nbconvert_exporter": "python",
   "pygments_lexer": "ipython3",
   "version": "3.8.6"
  }
 },
 "nbformat": 4,
 "nbformat_minor": 4
}
